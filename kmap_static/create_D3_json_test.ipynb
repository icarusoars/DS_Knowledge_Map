{
 "cells": [
  {
   "cell_type": "code",
   "execution_count": 1,
   "metadata": {},
   "outputs": [],
   "source": [
    "import os\n",
    "import markdown\n",
    "import json"
   ]
  },
  {
   "cell_type": "code",
   "execution_count": 2,
   "metadata": {},
   "outputs": [],
   "source": [
    "def get_md_info(file_path):\n",
    "    md = markdown.Markdown(extensions = ['meta'])\n",
    "\n",
    "    file_info = {}\n",
    "    with open(file_path) as md_file:\n",
    "        md.convert(md_file.read())\n",
    "        file_info = md.Meta\n",
    "    \n",
    "    file_info['path'] = file_path\n",
    "\n",
    "    return file_info"
   ]
  },
  {
   "cell_type": "code",
   "execution_count": 49,
   "metadata": {},
   "outputs": [],
   "source": [
    "def path_to_dict(path):\n",
    "    \n",
    "    # get information of this node by accessing corresponding md file\n",
    "    file_info = get_md_info(path + '/' + os.path.basename(path) + '.md')\n",
    "    \n",
    "    d = {\n",
    "         'md_file_path': path + '/' + os.path.basename(path) + '.md',\n",
    "         'name': file_info['name'] if 'name' in file_info else os.path.basename(path)\n",
    "        }\n",
    "    \n",
    "    subdirs = [x for x in os.listdir(path) if os.path.isdir(os.path.join(path,x))]\n",
    "    \n",
    "    # recursively fill in dictionary structure\n",
    "    d['children'] = [path_to_dict(os.path.join(path,subdir)) for subdir in subdirs]\n",
    "    \n",
    "    \n",
    "    \n",
    "    # for leaf nodes, delete children attribute, set size attribute\n",
    "    if not d['children']:\n",
    "        del d['children']\n",
    "        d['size'] = file_info['size'] if 'size' in file_info else 5\n",
    "        \n",
    "    return d"
   ]
  },
  {
   "cell_type": "code",
   "execution_count": 51,
   "metadata": {},
   "outputs": [
    {
     "data": {
      "text/plain": [
       "'{\"md_file_path\": \"data_science/data_science.md\", \"name\": [\"Data Science\"], \"children\": [{\"md_file_path\": \"data_science/statistics/statistics.md\", \"name\": \"statistics\", \"size\": 5}, {\"md_file_path\": \"data_science/machine_learning/machine_learning.md\", \"name\": \"machine_learning\", \"size\": 5}, {\"md_file_path\": \"data_science/data_manipulation/data_manipulation.md\", \"name\": \"data_manipulation\", \"size\": 5}, {\"md_file_path\": \"data_science/data_visualization/data_visualization.md\", \"name\": \"data_visualization\", \"children\": [{\"md_file_path\": \"data_science/data_visualization/technologies/technologies.md\", \"name\": \"technologies\", \"children\": [{\"md_file_path\": \"data_science/data_visualization/technologies/bokeh/bokeh.md\", \"name\": \"bokeh\", \"size\": 5}, {\"md_file_path\": \"data_science/data_visualization/technologies/tableau/tableau.md\", \"name\": \"tableau\", \"size\": 5}, {\"md_file_path\": \"data_science/data_visualization/technologies/seaborn/seaborn.md\", \"name\": \"seaborn\", \"size\": 5}, {\"md_file_path\": \"data_science/data_visualization/technologies/plotly/plotly.md\", \"name\": \"plotly\", \"size\": 5}, {\"md_file_path\": \"data_science/data_visualization/technologies/d3/d3.md\", \"name\": \"d3\", \"size\": 5}, {\"md_file_path\": \"data_science/data_visualization/technologies/matplotlib/matplotlib.md\", \"name\": \"matplotlib\", \"size\": 5}, {\"md_file_path\": \"data_science/data_visualization/technologies/superset/superset.md\", \"name\": \"superset\", \"size\": 5}]}, {\"md_file_path\": \"data_science/data_visualization/visualization_types/visualization_types.md\", \"name\": \"visualization_types\", \"size\": 5}]}, {\"md_file_path\": \"data_science/math/math.md\", \"name\": \"math\", \"size\": 5}, {\"md_file_path\": \"data_science/big_data/big_data.md\", \"name\": \"big_data\", \"size\": 5}, {\"md_file_path\": \"data_science/experimental_design/experimental_design.md\", \"name\": \"experimental_design\", \"size\": 5}, {\"md_file_path\": \"data_science/deployment/deployment.md\", \"name\": \"deployment\", \"size\": 5}, {\"md_file_path\": \"data_science/feature_engineering/feature_engineering.md\", \"name\": \"feature_engineering\", \"size\": 5}, {\"md_file_path\": \"data_science/product_sense/product_sense.md\", \"name\": \"product_sense\", \"size\": 5}, {\"md_file_path\": \"data_science/presentation/presentation.md\", \"name\": \"presentation\", \"size\": 5}]}'"
      ]
     },
     "execution_count": 51,
     "metadata": {},
     "output_type": "execute_result"
    }
   ],
   "source": [
    "json.dumps(path_to_dict('data_science'))"
   ]
  },
  {
   "cell_type": "code",
   "execution_count": null,
   "metadata": {},
   "outputs": [],
   "source": []
  },
  {
   "cell_type": "code",
   "execution_count": null,
   "metadata": {},
   "outputs": [],
   "source": []
  },
  {
   "cell_type": "code",
   "execution_count": null,
   "metadata": {},
   "outputs": [],
   "source": []
  }
 ],
 "metadata": {
  "kernelspec": {
   "display_name": "Python 3",
   "language": "python",
   "name": "python3"
  },
  "language_info": {
   "codemirror_mode": {
    "name": "ipython",
    "version": 3
   },
   "file_extension": ".py",
   "mimetype": "text/x-python",
   "name": "python",
   "nbconvert_exporter": "python",
   "pygments_lexer": "ipython3",
   "version": "3.7.7"
  }
 },
 "nbformat": 4,
 "nbformat_minor": 4
}
